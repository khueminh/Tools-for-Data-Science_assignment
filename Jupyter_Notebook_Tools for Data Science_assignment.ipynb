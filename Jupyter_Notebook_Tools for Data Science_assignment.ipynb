{
 "cells": [
  {
   "cell_type": "markdown",
   "metadata": {},
   "source": [
    "<center>\n",
    "    <img src=\"https://cf-courses-data.s3.us.cloud-object-storage.appdomain.cloud/IBMDeveloperSkillsNetwork-DS0105EN-SkillsNetwork/labs/Module2/images/SN_web_lightmode.png\" width=\"300\" alt=\"cognitiveclass.ai logo\"  />\n",
    "</center>\n"
   ]
  },
  {
   "cell_type": "markdown",
   "metadata": {},
   "source": [
    "#### Add your code below following the instructions given in the course\n"
   ]
  },
  {
   "cell_type": "markdown",
   "metadata": {},
   "source": [
    "<H1>My Jupyter Notebook on IBM Watson Studio<H1>"
   ]
  },
  {
   "cell_type": "markdown",
   "metadata": {},
   "source": [
    "<b>Khue, Nguyen Minh </b><br>Data Scientist "
   ]
  },
  {
   "cell_type": "markdown",
   "metadata": {},
   "source": [
    "<i>I am interested in data science because of data I want to become a data analyst in the banking industry, I want data governance to be able to make the business decisions right. <i>"
   ]
  },
  {
   "cell_type": "markdown",
   "metadata": {},
   "source": [
    "<h3>The Following Code will Display today's time and date</h3> "
   ]
  },
  {
   "cell_type": "code",
   "execution_count": 1,
   "metadata": {},
   "outputs": [
    {
     "name": "stdout",
     "output_type": "stream",
     "text": [
      "Today's Date and Time is  2023-01-16 06:36:01.929728\n"
     ]
    }
   ],
   "source": [
    "import datetime \n",
    "message = \"Today's Date and Time is \" \n",
    "print (message , datetime.datetime.now() )"
   ]
  },
  {
   "cell_type": "markdown",
   "metadata": {},
   "source": [
    "<html>\n",
    "<header>\n",
    "</header>\n",
    "\n",
    "<body>\n",
    "    <section>\n",
    "        <h1> My favourite Fruits</h1>\n",
    "        <ol>\n",
    "            <li>Apple</li>\n",
    "            <li>Banana</li>\n",
    "            <li>Orange</li>\n",
    "            <li>Mango</li>\n",
    "            <li>Grapes</li>\n",
    "        </ol>\n",
    "        <hr>\n",
    "        <table border=\"1px\">\n",
    "            <tr>\n",
    "                <td><b>Needs</b></td>\n",
    "                <td><b>Wants</b></td>\n",
    "            </tr>\n",
    "            <tr>\n",
    "                <td>Water</td>\n",
    "                <td>Car</td>\n",
    "            </tr>\n",
    "            <tr>\n",
    "                <td>Food</td>\n",
    "                <td>Phone</td>\n",
    "            </tr>\n",
    "            <tr>\n",
    "                <td>Education</td>\n",
    "                <td>Computer</td>\n",
    "            </tr>\n",
    "            <tr>\n",
    "                <td>Medicine</td>\n",
    "                <td>Television</td>\n",
    "            </tr>\n",
    "        </table>\n",
    "        <br>\n",
    "        <hr>\n",
    "    </section>\n",
    "    <footer>\n",
    "        <a href=\"https://web.facebook.com/\">https://web.facebook.com/</a>\n",
    "    </footer>\n",
    "</body>\n",
    "</html>"
   ]
  },
  {
   "cell_type": "code",
   "execution_count": 2,
   "metadata": {},
   "outputs": [
    {
     "ename": "SyntaxError",
     "evalue": "invalid syntax (782308287.py, line 3)",
     "output_type": "error",
     "traceback": [
      "\u001b[0;36m  File \u001b[0;32m\"/tmp/ipykernel_76/782308287.py\"\u001b[0;36m, line \u001b[0;32m3\u001b[0m\n\u001b[0;31m    Create a Jupyter Notebook using IBM Watson Studio. You can choose any language you want (Python, R, or Scala). You will need to include a combination of markdown and code cells. You will likely need to use the Markdown cheatsheet to help you determine the appropriate syntax to style your markdown.\u001b[0m\n\u001b[0m           ^\u001b[0m\n\u001b[0;31mSyntaxError\u001b[0m\u001b[0;31m:\u001b[0m invalid syntax\n"
     ]
    }
   ],
   "source": [
    "___\n",
    "###  1. Assignment Topic:  \n",
    "Create a Jupyter Notebook using IBM Watson Studio. You can choose any language you want (Python, R, or Scala). You will need to include a combination of markdown and code cells. You will likely need to use the Markdown cheatsheet to help you determine the appropriate syntax to style your markdown.\n",
    "___\n",
    "\n",
    "#####  2. _Guidelines for the submission_\n",
    "\n",
    "Create your Jupyter Notebook on IBM Watson Studio\n",
    "Include at least 6 cells:\n",
    "* Cell 1 (rendered as Markdown): The title should be \"My Jupyter Notebook on IBM Data Science Experience\", in H1 header styling. The title does not need to be centered.\n",
    "* Cell 2 (rendered as Markdown): Your name, in bold characters. In the line below your name, write your current or desired occupation in regular font.\n",
    "* Cell 3 (rendered as Markdown): In italic formatting, write one or two sentences about why you are interested in data science. For example, you can start your first sentence with \"I am interested in data science because ...\".\n",
    "* Cell 4 (rendered as Markdown): In H3 header styling, explain in a short sentence what your code is supposed to do in Cell 5.\n",
    "* Cell 5 (code cell): Your code, as described in Cell 4. It must be executed and must display an output. Try to keep the code simple (it can even be \"1 + 1\").\n",
    "* Cell 6 (rendered as Markdown): Using Markdown or HTML, this cell must include at least 3 of the following: horizontal rule, bulleted list, numbered list, tables, hyperlinks, images, `code/syntax highlighting`, blocked quotes, ~~strikethrough~~.\n",
    "\n",
    "___\n",
    ">The following is uneeded by I wanted to practice."
   ]
  },
  {
   "cell_type": "code",
   "execution_count": null,
   "metadata": {},
   "outputs": [],
   "source": []
  }
 ],
 "metadata": {
  "kernelspec": {
   "display_name": "Python",
   "language": "python",
   "name": "conda-env-python-py"
  },
  "language_info": {
   "codemirror_mode": {
    "name": "ipython",
    "version": 3
   },
   "file_extension": ".py",
   "mimetype": "text/x-python",
   "name": "python",
   "nbconvert_exporter": "python",
   "pygments_lexer": "ipython3",
   "version": "3.7.12"
  }
 },
 "nbformat": 4,
 "nbformat_minor": 4
}
